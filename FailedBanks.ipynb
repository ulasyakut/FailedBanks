{
 "cells": [
  {
   "cell_type": "markdown",
   "id": "cca3cea1-061e-47c5-8605-ba632706366f",
   "metadata": {},
   "source": [
    "Failed Banks Data"
   ]
  },
  {
   "cell_type": "code",
   "execution_count": 26,
   "id": "306e1f29-8886-4d51-9f8d-4df0641534f2",
   "metadata": {},
   "outputs": [],
   "source": [
    "import pandas as pd\n",
    "import numpy as np"
   ]
  },
  {
   "cell_type": "code",
   "execution_count": 27,
   "id": "ae4c9697-b329-40f1-b216-c2a771972ba6",
   "metadata": {},
   "outputs": [
    {
     "data": {
      "text/html": [
       "<div>\n",
       "<style scoped>\n",
       "    .dataframe tbody tr th:only-of-type {\n",
       "        vertical-align: middle;\n",
       "    }\n",
       "\n",
       "    .dataframe tbody tr th {\n",
       "        vertical-align: top;\n",
       "    }\n",
       "\n",
       "    .dataframe thead th {\n",
       "        text-align: right;\n",
       "    }\n",
       "</style>\n",
       "<table border=\"1\" class=\"dataframe\">\n",
       "  <thead>\n",
       "    <tr style=\"text-align: right;\">\n",
       "      <th></th>\n",
       "      <th>Bank Name</th>\n",
       "      <th>City</th>\n",
       "      <th>State</th>\n",
       "      <th>Cert</th>\n",
       "      <th>Acquiring Institution</th>\n",
       "      <th>Closing Date</th>\n",
       "      <th>Fund</th>\n",
       "    </tr>\n",
       "  </thead>\n",
       "  <tbody>\n",
       "    <tr>\n",
       "      <th>0</th>\n",
       "      <td>First National Bank of Lindsay</td>\n",
       "      <td>Lindsay</td>\n",
       "      <td>OK</td>\n",
       "      <td>4134</td>\n",
       "      <td>First Bank &amp; Trust Co.</td>\n",
       "      <td>18-Oct-24</td>\n",
       "      <td>10547</td>\n",
       "    </tr>\n",
       "    <tr>\n",
       "      <th>1</th>\n",
       "      <td>Republic First Bank dba Republic Bank</td>\n",
       "      <td>Philadelphia</td>\n",
       "      <td>PA</td>\n",
       "      <td>27332</td>\n",
       "      <td>Fulton Bank, National Association</td>\n",
       "      <td>26-Apr-24</td>\n",
       "      <td>10546</td>\n",
       "    </tr>\n",
       "    <tr>\n",
       "      <th>2</th>\n",
       "      <td>Citizens Bank</td>\n",
       "      <td>Sac City</td>\n",
       "      <td>IA</td>\n",
       "      <td>8758</td>\n",
       "      <td>Iowa Trust &amp; Savings Bank</td>\n",
       "      <td>3-Nov-23</td>\n",
       "      <td>10545</td>\n",
       "    </tr>\n",
       "    <tr>\n",
       "      <th>3</th>\n",
       "      <td>Heartland Tri-State Bank</td>\n",
       "      <td>Elkhart</td>\n",
       "      <td>KS</td>\n",
       "      <td>25851</td>\n",
       "      <td>Dream First Bank, N.A.</td>\n",
       "      <td>28-Jul-23</td>\n",
       "      <td>10544</td>\n",
       "    </tr>\n",
       "    <tr>\n",
       "      <th>4</th>\n",
       "      <td>First Republic Bank</td>\n",
       "      <td>San Francisco</td>\n",
       "      <td>CA</td>\n",
       "      <td>59017</td>\n",
       "      <td>JPMorgan Chase Bank, N.A.</td>\n",
       "      <td>1-May-23</td>\n",
       "      <td>10543</td>\n",
       "    </tr>\n",
       "    <tr>\n",
       "      <th>...</th>\n",
       "      <td>...</td>\n",
       "      <td>...</td>\n",
       "      <td>...</td>\n",
       "      <td>...</td>\n",
       "      <td>...</td>\n",
       "      <td>...</td>\n",
       "      <td>...</td>\n",
       "    </tr>\n",
       "    <tr>\n",
       "      <th>565</th>\n",
       "      <td>Superior Bank, FSB</td>\n",
       "      <td>Hinsdale</td>\n",
       "      <td>IL</td>\n",
       "      <td>32646</td>\n",
       "      <td>Superior Federal, FSB</td>\n",
       "      <td>27-Jul-01</td>\n",
       "      <td>6004</td>\n",
       "    </tr>\n",
       "    <tr>\n",
       "      <th>566</th>\n",
       "      <td>Malta National Bank</td>\n",
       "      <td>Malta</td>\n",
       "      <td>OH</td>\n",
       "      <td>6629</td>\n",
       "      <td>North Valley Bank</td>\n",
       "      <td>3-May-01</td>\n",
       "      <td>4648</td>\n",
       "    </tr>\n",
       "    <tr>\n",
       "      <th>567</th>\n",
       "      <td>First Alliance Bank &amp; Trust Co.</td>\n",
       "      <td>Manchester</td>\n",
       "      <td>NH</td>\n",
       "      <td>34264</td>\n",
       "      <td>Southern New Hampshire Bank &amp; Trust</td>\n",
       "      <td>2-Feb-01</td>\n",
       "      <td>4647</td>\n",
       "    </tr>\n",
       "    <tr>\n",
       "      <th>568</th>\n",
       "      <td>National State Bank of Metropolis</td>\n",
       "      <td>Metropolis</td>\n",
       "      <td>IL</td>\n",
       "      <td>3815</td>\n",
       "      <td>Banterra Bank of Marion</td>\n",
       "      <td>14-Dec-00</td>\n",
       "      <td>4646</td>\n",
       "    </tr>\n",
       "    <tr>\n",
       "      <th>569</th>\n",
       "      <td>Bank of Honolulu</td>\n",
       "      <td>Honolulu</td>\n",
       "      <td>HI</td>\n",
       "      <td>21029</td>\n",
       "      <td>Bank of the Orient</td>\n",
       "      <td>13-Oct-00</td>\n",
       "      <td>4645</td>\n",
       "    </tr>\n",
       "  </tbody>\n",
       "</table>\n",
       "<p>570 rows × 7 columns</p>\n",
       "</div>"
      ],
      "text/plain": [
       "                                Bank Name           City  State   Cert   \\\n",
       "0           First National Bank of Lindsay        Lindsay     OK   4134   \n",
       "1    Republic First Bank dba Republic Bank   Philadelphia     PA  27332   \n",
       "2                            Citizens Bank       Sac City     IA   8758   \n",
       "3                 Heartland Tri-State Bank        Elkhart     KS  25851   \n",
       "4                      First Republic Bank  San Francisco     CA  59017   \n",
       "..                                     ...            ...    ...    ...   \n",
       "565                     Superior Bank, FSB       Hinsdale     IL  32646   \n",
       "566                    Malta National Bank          Malta     OH   6629   \n",
       "567        First Alliance Bank & Trust Co.     Manchester     NH  34264   \n",
       "568      National State Bank of Metropolis     Metropolis     IL   3815   \n",
       "569                       Bank of Honolulu       Honolulu     HI  21029   \n",
       "\n",
       "                  Acquiring Institution  Closing Date    Fund  \n",
       "0                 First Bank & Trust Co.     18-Oct-24  10547  \n",
       "1      Fulton Bank, National Association     26-Apr-24  10546  \n",
       "2              Iowa Trust & Savings Bank      3-Nov-23  10545  \n",
       "3                 Dream First Bank, N.A.     28-Jul-23  10544  \n",
       "4              JPMorgan Chase Bank, N.A.      1-May-23  10543  \n",
       "..                                   ...           ...    ...  \n",
       "565                Superior Federal, FSB     27-Jul-01   6004  \n",
       "566                    North Valley Bank      3-May-01   4648  \n",
       "567  Southern New Hampshire Bank & Trust      2-Feb-01   4647  \n",
       "568              Banterra Bank of Marion     14-Dec-00   4646  \n",
       "569                   Bank of the Orient     13-Oct-00   4645  \n",
       "\n",
       "[570 rows x 7 columns]"
      ]
     },
     "execution_count": 27,
     "metadata": {},
     "output_type": "execute_result"
    }
   ],
   "source": [
    "df = pd.read_csv('banklist.csv',encoding='windows-1252')\n",
    "df"
   ]
  },
  {
   "cell_type": "code",
   "execution_count": 28,
   "id": "c6c0316a-ce33-44aa-8d19-e67e12d901d5",
   "metadata": {},
   "outputs": [
    {
     "data": {
      "text/plain": [
       "Bank Name                 0\n",
       "City                      0\n",
       "State                     0\n",
       "Cert                      0\n",
       "Acquiring Institution     0\n",
       "Closing Date              0\n",
       "Fund                      0\n",
       "dtype: int64"
      ]
     },
     "execution_count": 28,
     "metadata": {},
     "output_type": "execute_result"
    }
   ],
   "source": [
    "df.isna().sum()#to check if there is any missing value"
   ]
  },
  {
   "cell_type": "code",
   "execution_count": 29,
   "id": "8deed64f-0879-406f-ad02-d2d64463e824",
   "metadata": {},
   "outputs": [
    {
     "data": {
      "text/html": [
       "<div>\n",
       "<style scoped>\n",
       "    .dataframe tbody tr th:only-of-type {\n",
       "        vertical-align: middle;\n",
       "    }\n",
       "\n",
       "    .dataframe tbody tr th {\n",
       "        vertical-align: top;\n",
       "    }\n",
       "\n",
       "    .dataframe thead th {\n",
       "        text-align: right;\n",
       "    }\n",
       "</style>\n",
       "<table border=\"1\" class=\"dataframe\">\n",
       "  <thead>\n",
       "    <tr style=\"text-align: right;\">\n",
       "      <th></th>\n",
       "      <th>Bank Name</th>\n",
       "      <th>City</th>\n",
       "      <th>State</th>\n",
       "      <th>Cert</th>\n",
       "      <th>Acquiring Institution</th>\n",
       "      <th>Closing Date</th>\n",
       "      <th>Fund</th>\n",
       "    </tr>\n",
       "  </thead>\n",
       "  <tbody>\n",
       "    <tr>\n",
       "      <th>0</th>\n",
       "      <td>First National Bank of Lindsay</td>\n",
       "      <td>Lindsay</td>\n",
       "      <td>OK</td>\n",
       "      <td>4134</td>\n",
       "      <td>First Bank &amp; Trust Co.</td>\n",
       "      <td>18-Oct-24</td>\n",
       "      <td>10547</td>\n",
       "    </tr>\n",
       "    <tr>\n",
       "      <th>1</th>\n",
       "      <td>Republic First Bank dba Republic Bank</td>\n",
       "      <td>Philadelphia</td>\n",
       "      <td>PA</td>\n",
       "      <td>27332</td>\n",
       "      <td>Fulton Bank, National Association</td>\n",
       "      <td>26-Apr-24</td>\n",
       "      <td>10546</td>\n",
       "    </tr>\n",
       "    <tr>\n",
       "      <th>2</th>\n",
       "      <td>Citizens Bank</td>\n",
       "      <td>Sac City</td>\n",
       "      <td>IA</td>\n",
       "      <td>8758</td>\n",
       "      <td>Iowa Trust &amp; Savings Bank</td>\n",
       "      <td>3-Nov-23</td>\n",
       "      <td>10545</td>\n",
       "    </tr>\n",
       "    <tr>\n",
       "      <th>3</th>\n",
       "      <td>Heartland Tri-State Bank</td>\n",
       "      <td>Elkhart</td>\n",
       "      <td>KS</td>\n",
       "      <td>25851</td>\n",
       "      <td>Dream First Bank, N.A.</td>\n",
       "      <td>28-Jul-23</td>\n",
       "      <td>10544</td>\n",
       "    </tr>\n",
       "    <tr>\n",
       "      <th>4</th>\n",
       "      <td>First Republic Bank</td>\n",
       "      <td>San Francisco</td>\n",
       "      <td>CA</td>\n",
       "      <td>59017</td>\n",
       "      <td>JPMorgan Chase Bank, N.A.</td>\n",
       "      <td>1-May-23</td>\n",
       "      <td>10543</td>\n",
       "    </tr>\n",
       "  </tbody>\n",
       "</table>\n",
       "</div>"
      ],
      "text/plain": [
       "                              Bank Name           City  State   Cert   \\\n",
       "0         First National Bank of Lindsay        Lindsay     OK   4134   \n",
       "1  Republic First Bank dba Republic Bank   Philadelphia     PA  27332   \n",
       "2                          Citizens Bank       Sac City     IA   8758   \n",
       "3               Heartland Tri-State Bank        Elkhart     KS  25851   \n",
       "4                    First Republic Bank  San Francisco     CA  59017   \n",
       "\n",
       "              Acquiring Institution  Closing Date    Fund  \n",
       "0             First Bank & Trust Co.     18-Oct-24  10547  \n",
       "1  Fulton Bank, National Association     26-Apr-24  10546  \n",
       "2          Iowa Trust & Savings Bank      3-Nov-23  10545  \n",
       "3             Dream First Bank, N.A.     28-Jul-23  10544  \n",
       "4          JPMorgan Chase Bank, N.A.      1-May-23  10543  "
      ]
     },
     "execution_count": 29,
     "metadata": {},
     "output_type": "execute_result"
    }
   ],
   "source": [
    "df.head()"
   ]
  },
  {
   "cell_type": "code",
   "execution_count": 30,
   "id": "2651c861-978f-4010-a84f-61a231faf4bd",
   "metadata": {},
   "outputs": [
    {
     "data": {
      "text/html": [
       "<div>\n",
       "<style scoped>\n",
       "    .dataframe tbody tr th:only-of-type {\n",
       "        vertical-align: middle;\n",
       "    }\n",
       "\n",
       "    .dataframe tbody tr th {\n",
       "        vertical-align: top;\n",
       "    }\n",
       "\n",
       "    .dataframe thead th {\n",
       "        text-align: right;\n",
       "    }\n",
       "</style>\n",
       "<table border=\"1\" class=\"dataframe\">\n",
       "  <thead>\n",
       "    <tr style=\"text-align: right;\">\n",
       "      <th></th>\n",
       "      <th>Bank Name</th>\n",
       "      <th>City</th>\n",
       "      <th>State</th>\n",
       "      <th>Cert</th>\n",
       "      <th>Acquiring Institution</th>\n",
       "      <th>Closing Date</th>\n",
       "      <th>Fund</th>\n",
       "    </tr>\n",
       "  </thead>\n",
       "  <tbody>\n",
       "    <tr>\n",
       "      <th>565</th>\n",
       "      <td>Superior Bank, FSB</td>\n",
       "      <td>Hinsdale</td>\n",
       "      <td>IL</td>\n",
       "      <td>32646</td>\n",
       "      <td>Superior Federal, FSB</td>\n",
       "      <td>27-Jul-01</td>\n",
       "      <td>6004</td>\n",
       "    </tr>\n",
       "    <tr>\n",
       "      <th>566</th>\n",
       "      <td>Malta National Bank</td>\n",
       "      <td>Malta</td>\n",
       "      <td>OH</td>\n",
       "      <td>6629</td>\n",
       "      <td>North Valley Bank</td>\n",
       "      <td>3-May-01</td>\n",
       "      <td>4648</td>\n",
       "    </tr>\n",
       "    <tr>\n",
       "      <th>567</th>\n",
       "      <td>First Alliance Bank &amp; Trust Co.</td>\n",
       "      <td>Manchester</td>\n",
       "      <td>NH</td>\n",
       "      <td>34264</td>\n",
       "      <td>Southern New Hampshire Bank &amp; Trust</td>\n",
       "      <td>2-Feb-01</td>\n",
       "      <td>4647</td>\n",
       "    </tr>\n",
       "    <tr>\n",
       "      <th>568</th>\n",
       "      <td>National State Bank of Metropolis</td>\n",
       "      <td>Metropolis</td>\n",
       "      <td>IL</td>\n",
       "      <td>3815</td>\n",
       "      <td>Banterra Bank of Marion</td>\n",
       "      <td>14-Dec-00</td>\n",
       "      <td>4646</td>\n",
       "    </tr>\n",
       "    <tr>\n",
       "      <th>569</th>\n",
       "      <td>Bank of Honolulu</td>\n",
       "      <td>Honolulu</td>\n",
       "      <td>HI</td>\n",
       "      <td>21029</td>\n",
       "      <td>Bank of the Orient</td>\n",
       "      <td>13-Oct-00</td>\n",
       "      <td>4645</td>\n",
       "    </tr>\n",
       "  </tbody>\n",
       "</table>\n",
       "</div>"
      ],
      "text/plain": [
       "                            Bank Name        City  State   Cert   \\\n",
       "565                 Superior Bank, FSB    Hinsdale     IL  32646   \n",
       "566                Malta National Bank       Malta     OH   6629   \n",
       "567    First Alliance Bank & Trust Co.  Manchester     NH  34264   \n",
       "568  National State Bank of Metropolis  Metropolis     IL   3815   \n",
       "569                   Bank of Honolulu    Honolulu     HI  21029   \n",
       "\n",
       "                  Acquiring Institution  Closing Date   Fund  \n",
       "565                Superior Federal, FSB     27-Jul-01  6004  \n",
       "566                    North Valley Bank      3-May-01  4648  \n",
       "567  Southern New Hampshire Bank & Trust      2-Feb-01  4647  \n",
       "568              Banterra Bank of Marion     14-Dec-00  4646  \n",
       "569                   Bank of the Orient     13-Oct-00  4645  "
      ]
     },
     "execution_count": 30,
     "metadata": {},
     "output_type": "execute_result"
    }
   ],
   "source": [
    "df.tail()"
   ]
  },
  {
   "cell_type": "code",
   "execution_count": 31,
   "id": "5f0b7aaa-b0f7-4042-9456-5affe29cb61e",
   "metadata": {},
   "outputs": [
    {
     "data": {
      "text/plain": [
       "Bank Name                 570\n",
       "City                      570\n",
       "State                     570\n",
       "Cert                      570\n",
       "Acquiring Institution     570\n",
       "Closing Date              570\n",
       "Fund                      570\n",
       "dtype: int64"
      ]
     },
     "execution_count": 31,
     "metadata": {},
     "output_type": "execute_result"
    }
   ],
   "source": [
    "df.count()"
   ]
  },
  {
   "cell_type": "code",
   "execution_count": 32,
   "id": "a37d7bf7-4ba2-411c-ab37-613cee705fdd",
   "metadata": {},
   "outputs": [
    {
     "data": {
      "text/plain": [
       "Bank Name                 Republic First Bank dba Republic Bank\n",
       "City                                               Philadelphia\n",
       "State                                                        PA\n",
       "Cert                                                      27332\n",
       "Acquiring Institution         Fulton Bank, National Association\n",
       "Closing Date                                          26-Apr-24\n",
       "Fund                                                      10546\n",
       "Name: 1, dtype: object"
      ]
     },
     "execution_count": 32,
     "metadata": {},
     "output_type": "execute_result"
    }
   ],
   "source": [
    "df.loc[1] #index 1  "
   ]
  },
  {
   "cell_type": "code",
   "execution_count": 39,
   "id": "66f56353-0e84-4fc5-88ca-6457f6ab5068",
   "metadata": {},
   "outputs": [],
   "source": [
    "data =np.array(df)#turned into ndarray"
   ]
  },
  {
   "cell_type": "code",
   "execution_count": 40,
   "id": "48f22e6c-41e5-4478-9de7-a3973ae1a78e",
   "metadata": {},
   "outputs": [
    {
     "data": {
      "text/plain": [
       "array([['First National Bank of Lindsay', 'Lindsay', 'OK', ...,\n",
       "        'First Bank & Trust Co.', '18-Oct-24', 10547],\n",
       "       ['Republic First Bank dba Republic Bank', 'Philadelphia', 'PA',\n",
       "        ..., 'Fulton Bank, National Association', '26-Apr-24', 10546],\n",
       "       ['Citizens Bank', 'Sac City', 'IA', ...,\n",
       "        'Iowa Trust & Savings Bank', '3-Nov-23', 10545],\n",
       "       ...,\n",
       "       ['First Alliance Bank & Trust Co.', 'Manchester', 'NH', ...,\n",
       "        'Southern New Hampshire Bank & Trust', '2-Feb-01', 4647],\n",
       "       ['National State Bank of Metropolis', 'Metropolis', 'IL', ...,\n",
       "        'Banterra Bank of Marion', '14-Dec-00', 4646],\n",
       "       ['Bank of Honolulu', 'Honolulu', 'HI', ..., 'Bank of the Orient',\n",
       "        '13-Oct-00', 4645]], dtype=object)"
      ]
     },
     "execution_count": 40,
     "metadata": {},
     "output_type": "execute_result"
    }
   ],
   "source": [
    "data"
   ]
  },
  {
   "cell_type": "code",
   "execution_count": 50,
   "id": "5c05eeef-dd34-493d-a557-9a1f05e0533f",
   "metadata": {},
   "outputs": [
    {
     "data": {
      "text/plain": [
       "array(['First National Bank of Lindsay', 'Lindsay', 'OK', 4134,\n",
       "       'First Bank & Trust Co.', '18-Oct-24', 10547], dtype=object)"
      ]
     },
     "execution_count": 50,
     "metadata": {},
     "output_type": "execute_result"
    }
   ],
   "source": [
    "data[0]"
   ]
  },
  {
   "cell_type": "code",
   "execution_count": 43,
   "id": "e6903e14-0a43-49bd-8d15-d6c8306e4929",
   "metadata": {},
   "outputs": [
    {
     "data": {
      "text/plain": [
       "'Republic First Bank dba Republic Bank'"
      ]
     },
     "execution_count": 43,
     "metadata": {},
     "output_type": "execute_result"
    }
   ],
   "source": [
    "data[1][0]#first column of second row"
   ]
  },
  {
   "cell_type": "code",
   "execution_count": 46,
   "id": "770ab32a-52ed-414f-b738-d3684a24819c",
   "metadata": {},
   "outputs": [
    {
     "data": {
      "text/plain": [
       "(570, 7)"
      ]
     },
     "execution_count": 46,
     "metadata": {},
     "output_type": "execute_result"
    }
   ],
   "source": [
    "data.shape#has 570 rows and 7 columns"
   ]
  },
  {
   "cell_type": "code",
   "execution_count": null,
   "id": "c1bee6ec-2b42-46fd-a66e-d1773bc6cbc9",
   "metadata": {},
   "outputs": [],
   "source": []
  },
  {
   "cell_type": "code",
   "execution_count": null,
   "id": "31e47ebd-0c3b-410c-a3c5-6b168bd6e584",
   "metadata": {},
   "outputs": [],
   "source": []
  }
 ],
 "metadata": {
  "kernelspec": {
   "display_name": "Python 3 (ipykernel)",
   "language": "python",
   "name": "python3"
  },
  "language_info": {
   "codemirror_mode": {
    "name": "ipython",
    "version": 3
   },
   "file_extension": ".py",
   "mimetype": "text/x-python",
   "name": "python",
   "nbconvert_exporter": "python",
   "pygments_lexer": "ipython3",
   "version": "3.12.5"
  }
 },
 "nbformat": 4,
 "nbformat_minor": 5
}
